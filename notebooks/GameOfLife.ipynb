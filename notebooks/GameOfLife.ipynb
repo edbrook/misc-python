{
 "cells": [
  {
   "cell_type": "code",
   "execution_count": 83,
   "metadata": {},
   "outputs": [
    {
     "name": "stdout",
     "output_type": "stream",
     "text": [
      "[[0 0 0 0 0]\n",
      " [0 0 1 0 0]\n",
      " [0 0 1 0 0]\n",
      " [0 0 1 0 0]\n",
      " [0 0 0 0 0]]\n",
      "[[0 0 0 0 0]\n",
      " [0 0 0 0 0]\n",
      " [0 1 1 1 0]\n",
      " [0 0 0 0 0]\n",
      " [0 0 0 0 0]]\n"
     ]
    }
   ],
   "source": [
    "import numpy as np\n",
    "\n",
    "\n",
    "class GameOfLife:\n",
    "    _neighbors = np.array([(-1,-1),(0,-1),(1,-1),(-1, 0),(1, 0),(-1, 1),(0, 1),(1, 1)])\n",
    "    \n",
    "    def __init__(self, width=10, height=10):\n",
    "        self._width = width\n",
    "        self._height = height\n",
    "        self._board = np.random.choice([0, 1], size=(height, width), p=[.7, .3])\n",
    "        self._board = np.array([\n",
    "            [0,0,0,0,0],\n",
    "            [0,0,1,0,0],\n",
    "            [0,0,1,0,0],\n",
    "            [0,0,1,0,0],\n",
    "            [0,0,0,0,0],])\n",
    "    \n",
    "    def step(self):\n",
    "        changes = []\n",
    "        for y in range(self._height):\n",
    "            for x in range(self._width):\n",
    "                pos = (y, x)\n",
    "                coords = (self._neighbors + pos) % (self._height, self._width)\n",
    "                t = sum([self._board[tuple(xy)] for xy in coords])\n",
    "                if 2 > t or t > 3:\n",
    "                    changes.append([pos, 0])\n",
    "                elif t == 3:\n",
    "                    changes.append([pos, 1])\n",
    "        for pos, val in changes:\n",
    "            self._board[pos] = val\n",
    "        return self\n",
    "    \n",
    "    def __repr__(self):\n",
    "        return str(self._board.copy())\n",
    "\n",
    "\n",
    "gof = GameOfLife(5, 5)\n",
    "print(gof)\n",
    "print(gof.step())"
   ]
  }
 ],
 "metadata": {
  "kernelspec": {
   "display_name": "Python 3",
   "language": "python",
   "name": "python3"
  },
  "language_info": {
   "codemirror_mode": {
    "name": "ipython",
    "version": 3
   },
   "file_extension": ".py",
   "mimetype": "text/x-python",
   "name": "python",
   "nbconvert_exporter": "python",
   "pygments_lexer": "ipython3",
   "version": "3.4.3"
  }
 },
 "nbformat": 4,
 "nbformat_minor": 2
}
